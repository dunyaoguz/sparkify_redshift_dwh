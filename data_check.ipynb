{
 "cells": [
  {
   "cell_type": "code",
   "execution_count": 1,
   "metadata": {},
   "outputs": [],
   "source": [
    "from boto3.session import Session\n",
    "import boto3\n",
    "from dotenv import load_dotenv, find_dotenv\n",
    "import os\n",
    "\n",
    "load_dotenv()\n",
    "KEY = os.environ['AWS_KEY']\n",
    "SECRET = os.environ['AWS_SECRET']"
   ]
  },
  {
   "cell_type": "code",
   "execution_count": 3,
   "metadata": {},
   "outputs": [
    {
     "name": "stdout",
     "output_type": "stream",
     "text": [
      "log-data/\n",
      "log-data/2018/11/2018-11-01-events.json\n",
      "log-data/2018/11/2018-11-02-events.json\n",
      "log-data/2018/11/2018-11-03-events.json\n",
      "log-data/2018/11/2018-11-04-events.json\n"
     ]
    }
   ],
   "source": [
    "session = Session(aws_access_key_id=KEY, aws_secret_access_key=SECRET)\n",
    "\n",
    "# session is authenticated and can access the resource in question\n",
    "dend_bucket = session.resource('s3').Bucket('udacity-dend')\n",
    "\n",
    "log_data_files = []\n",
    "i = 0\n",
    "for obj in dend_bucket.objects.filter(Prefix='log-data/'):\n",
    "    if i < 5:\n",
    "        log_data_files.append(obj.key)\n",
    "        print(obj.key)\n",
    "        i = i + 1\n",
    "    else:\n",
    "        break"
   ]
  },
  {
   "cell_type": "code",
   "execution_count": 4,
   "metadata": {},
   "outputs": [
    {
     "name": "stdout",
     "output_type": "stream",
     "text": [
      "song-data/\n",
      "song-data/A/A/A/TRAAAAK128F9318786.json\n",
      "song-data/A/A/A/TRAAAAV128F421A322.json\n",
      "song-data/A/A/A/TRAAABD128F429CF47.json\n",
      "song-data/A/A/A/TRAAACN128F9355673.json\n"
     ]
    }
   ],
   "source": [
    "song_data_files = []\n",
    "i = 0\n",
    "for obj in dend_bucket.objects.filter(Prefix='song-data/'):\n",
    "    if i < 5:\n",
    "        song_data_files.append(obj.key)\n",
    "        print(obj.key)\n",
    "        i = i + 1\n",
    "    else:\n",
    "        break"
   ]
  },
  {
   "cell_type": "code",
   "execution_count": null,
   "metadata": {},
   "outputs": [],
   "source": []
  },
  {
   "cell_type": "code",
   "execution_count": null,
   "metadata": {},
   "outputs": [],
   "source": [
    "\n",
    "log_data_files[0]"
   ]
  }
 ],
 "metadata": {
  "kernelspec": {
   "display_name": "Python 3",
   "language": "python",
   "name": "python3"
  },
  "language_info": {
   "codemirror_mode": {
    "name": "ipython",
    "version": 3
   },
   "file_extension": ".py",
   "mimetype": "text/x-python",
   "name": "python",
   "nbconvert_exporter": "python",
   "pygments_lexer": "ipython3",
   "version": "3.7.4"
  }
 },
 "nbformat": 4,
 "nbformat_minor": 2
}
